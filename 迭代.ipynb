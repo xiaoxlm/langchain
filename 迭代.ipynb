{
 "cells": [
  {
   "cell_type": "code",
   "execution_count": 1,
   "id": "c827a129-5e52-432e-8f13-4dc2751668fa",
   "metadata": {},
   "outputs": [],
   "source": [
    "from openai import OpenAI\n",
    "import os\n",
    "from dotenv import load_dotenv, find_dotenv\n",
    "\n",
    "_ = load_dotenv(find_dotenv())\n",
    "\n",
    "client = OpenAI(api_key=\"\",\n",
    "                base_url=\"https://dashscope.aliyuncs.com/compatible-mode/v1\")\n",
    "\n",
    "def get_completion(prompt, model=\"qwen2.5-72b-instruct\"):\n",
    "    messages = [{\"role\": \"user\", \"content\": prompt}]\n",
    "    response = client.chat.completions.create(\n",
    "        model=model,\n",
    "        messages=messages,\n",
    "        temperature=0,\n",
    "    )\n",
    "    return response.choices[0].message.content\n",
    "\n"
   ]
  },
  {
   "cell_type": "code",
   "execution_count": 5,
   "id": "f652e73e-9478-4042-bb66-0ed73fc60b89",
   "metadata": {},
   "outputs": [],
   "source": [
    "text = \"\"\"\n",
    "在 1957 年，于 1956 年成立的三个合伙企业的表现超越了市场。年初道琼斯指数为 499 点， 年底则为 435 点，下跌 65 点。考虑股利分红的因素，实际市场下跌了约 42 点或 8.4%。大 部分投资基金的表现并不比市场要好 ，实际上据我所知 ，今年没有任何投资基金获得正收益 。 而我们三个合伙企业在今年分别获得了 6.2%、7.8%和 25%的净资产增长。当然这样的数字 显然会引起一起疑问，尤其对于前两个合伙企业的投资人而言更是如此 。这种情况的出现纯\n",
    "粹是运气使然。获得最高收益的企业成立的时间最晚 ，正好赶上市场下跌，同时部分股票出 现了较为吸引人的价格。而前两个公司的投资头寸已经较高，因而无法获得这样的好处。\n",
    "\"\"\"\n",
    "\n",
    "prompt = f\"\"\"\n",
    "Summarize the text delimited by triple backticks \\\n",
    "into a single sentence.\n",
    "```{text}```\n",
    "\"\"\"\n",
    "\n",
    "response = get_completion(prompt)\n",
    "print(response)"
   ]
  },
  {
   "cell_type": "code",
   "execution_count": 13,
   "id": "607832cc-2490-4e87-a4f4-5512d83417b1",
   "metadata": {},
   "outputs": [],
   "source": [
    "prompt = f\"\"\"\n",
    "Your task is to answer in a consistent style.\n",
    "\n",
    "<child>: Teach me about patience.\n",
    "\n",
    "<grandparent>: The river that carves the deepest \\\n",
    "valley flows from a modest spring; the \\\n",
    "grandest symphony originates from a single note; \\\n",
    "the most intricate tapestry begins with a solitary thread.\n",
    "\n",
    "<child>: Teach me about resilience.\n",
    "\"\"\"\n",
    "\n",
    "response = get_completion(prompt)\n",
    "print(response)"
   ]
  },
  {
   "cell_type": "code",
   "execution_count": 12,
   "id": "9f1d3c59-e0f2-40c1-82d4-37dd7eb4b5dc",
   "metadata": {},
   "outputs": [],
   "source": [
    "prompt = f\"\"\"\n",
    "Tell me about AeroGlide UltraSlim Smart Toothbrush by Boie\n",
    "\"\"\"\n",
    "\n",
    "response = get_completion(prompt)\n",
    "print(response)"
   ]
  }
 ],
 "metadata": {
  "kernelspec": {
   "display_name": "prompt",
   "language": "python",
   "name": "prompt"
  },
  "language_info": {
   "codemirror_mode": {
    "name": "ipython",
    "version": 3
   },
   "file_extension": ".py",
   "mimetype": "text/x-python",
   "name": "python",
   "nbconvert_exporter": "python",
   "pygments_lexer": "ipython3",
   "version": "3.12.9"
  }
 },
 "nbformat": 4,
 "nbformat_minor": 5
}
